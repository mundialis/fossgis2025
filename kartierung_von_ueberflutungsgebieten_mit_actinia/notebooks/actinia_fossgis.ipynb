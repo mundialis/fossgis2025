{
 "cells": [
  {
   "cell_type": "markdown",
   "id": "26859918",
   "metadata": {},
   "source": [
    "<img style=\"float: center;\" src=\"https://raw.githubusercontent.com/actinia-org/actinia-core/main/docs/docs/actinia_logo.svg\" width=\"25%\">\n",
    "\n",
    "## Einführung\n",
    "\n",
    "Die cloudbasierte Geoprocessing-Plattform [actinia](https://actinia.mundialis.de/)\n",
    "ist in der Lage, große Mengen von Geodaten in der Cloud zu verarbeiten und zu\n",
    "analysieren. Die Software vereinigt viele [GRASS GIS](https://grass.osgeo.org/)\n",
    "Verarbeitungswerkzeuge und Datenbanken als\n",
    "[REST-Dienst](https://en.wikipedia.org/wiki/Representational_State_Transfer).\n",
    "Daher ist der Zugriff auf GRASS-Ressourcen wie Rasterkarten, Raum-Zeit-Rasterdatensätze,\n",
    "Verarbeitungs- und Analysemodule über URLs möglich. Darüber hinaus ermöglicht\n",
    "actinia die cloudbasierte Verarbeitung von Daten, zum Beispiel alle Landsat 4-9 Szenen\n",
    "sowie alle Sentinel-2-Szenen in einer ephemeren Datenbank. Die Berechnungsergebnisse\n",
    "stehen in der ephemeren Verarbeitung über Objektspeicher als GeoTIFF/COG Rasterdateien oder\n",
    "GeoPackage-Vektordateien zur Verfügung.\n",
    "\n",
    "Der actinia-Dienst besteht aus dem *[actinia core](https://github.com/actinia-org/actinia-core)*,\n",
    "der den grundlegenden, aber anspruchsvollen Verarbeitungsdienst bereitstellt, und\n",
    "*[actinia plugins](https://github.com/orgs/actinia-org/repositories?q=actinia+plugins&type=all&language=&sort=)*,\n",
    "die themenpezifische Dienste wie NDVI-Berechnungen aus Sentinel-2 oder Landsat-Daten,\n",
    "räumlich-zeitliche statistische Analysen und vieles mehr anbieten.\n",
    "\n",
    "Das folgende Tutorial ist eine kurze [Einführung in actinia](https://actinia-org.github.io/actinia-core/)."
   ]
  },
  {
   "cell_type": "markdown",
   "id": "c6a14f85",
   "metadata": {},
   "source": [
    "### Was ist REST?\n",
    "\n",
    "Der Representational State Transfer ([REST](https://de.wikipedia.org/wiki/Representational_State_Transfer))\n",
    "ist eine Abstraktion der Struktur und des Verhaltens des World Wide Web\n",
    "([HTTP](https://de.wikipedia.org/wiki/Hypertext_Transfer_Protocol)). Ziel von REST\n",
    "ist es, einen Architekturstil zu schaffen, der den Anforderungen des modernen Web\n",
    "besser gerecht wird. Dabei unterscheidet sich REST von anderen Architekturstilen\n",
    "vor allem durch die Forderung nach einer einheitlichen Schnittstelle. Der Fokus von\n",
    "REST liegt auf der Maschine-zu-Maschine-Kommunikation. REST benutzt die\n",
    "\"[request methods](https://en.wikipedia.org/wiki/Hypertext_Transfer_Protocol#Request_methods)\"\n",
    "GET, DELETE, POST und PUT, um Ressourcen mit zustandslosen Operationen zu manipulieren\n",
    "und zu empfangen.\n",
    "\n",
    "Während GET-Anfragen einfach von einem Browser gesendet werden können, sind POST-,\n",
    "PUT- oder DELETE-Anfragen nicht möglich. Um das volle Potenzial von actinia zu nutzen,\n",
    "benötigen Sie einen HTTP-Client, der alle HTTP-Kommunikationsmethoden beherrscht.\n",
    "Für diesen Zweck werden wir hier dieses Jupyter Notebook verwenden.\n",
    "\n",
    "### GRASS GIS Data Management\n",
    "\n",
    "GRASS GIS, was intern neben GDAL und anderen Komponenten von actinia verwendet wird, hat die in der Abbildung dargestellte Datenbankstruktur.\n",
    "\n",
    "![grass_format](images/grass_format.png)\n",
    "\n",
    "**Funktionalität von actinia über GRASS GIS hinaus**\n",
    "\n",
    "Actinia ist nicht nur eine REST-Schnittstelle zu GRASS GIS, sondern bietet die Möglichkeit, seine Funktionalität mit anderer Software ([ESA SNAP](https://step.esa.int/main/toolboxes/snap/), [GDAL](https://gdal.org/), ...) zu erweitern. Um andere als GRASS GIS Software zu integrieren, muss ein Wrapper-Skript geschrieben werden (Empfehlung: als GRASS GIS Addon Python-Skript), das dann die entsprechenden Funktionsaufrufe der zu integrierenden Software enthält. Der Aufruf von Shell-Befehlen in einer actinia-Prozesskette ist ebenfalls möglich, aber aufgrund von Sicherheitsrisiken eingeschränkt.\n",
    "\n",
    "\n",
    "### Persistent vs. User Database\n",
    "\n",
    "Unter **Persistentem Speicher** versteht man einen Datenspeicher, der die Daten auch bei einem Stromausfall und ohne geplante Löschzeiten aufbewahrt. Im Geo/EO-Kontext wird der persistente Speicher z. B. für die Bereitstellung von Basiskartographie verwendet, d. h. für Höhenmodelle, Straßennetze, Gebäudegrundrisse usw.\n",
    "\n",
    "Der **ephemere Speicher** wird für auf Anfrage berechnete Ergebnisse verwendet, einschließlich benutzergenerierter Daten und temporärer Daten, die in Verarbeitungsketten anfallen. In einem ephemeren Speicher werden die Daten nur für einen begrenzten Zeitraum aufbewahrt (z. B. in Actinia standardmäßig für 24 Stunden).\n",
    "\n",
    "Im Kontext des Cloud Computing sind diese Unterschiede relevant, da bei der Speicherung von Daten Kosten anfallen.\n",
    "\n",
    "Dementsprechend bietet actinia zwei Betriebsmodi an: persistente und ephemere (User) Verarbeitung. Insbesondere wird der **actinia server** typischerweise auf einem Server mit Zugriff auf eine persistente GRASS GIS Datenbank (PDB) und optional auf eine oder mehrere GRASS GIS Nutzerdatenbanken (UDB) eingesetzt."
   ]
  },
  {
   "cell_type": "markdown",
   "id": "12ef4ac3",
   "metadata": {},
   "source": [
    "---\n",
    "### actinia Software: core and plugins\n",
    "\n",
    "Eine Übersicht ist hier zu finden: https://actinia-org.github.io/\n",
    "\n",
    "### actinia API documentation\n",
    "\n",
    "Die Schnittstellen Dokumentation findet sich hier:\n",
    "\n",
    "* [actinia \"stable\" API v3 docs](https://redocly.github.io/redoc/?url=https://actinia.mundialis.de/api/v3/swagger.json)\n",
    "* [actinia \"development\" API v3 docs](https://redocly.github.io/redoc/?url=https://actinia-dev.mundialis.de/api/v3/swagger.json)"
   ]
  },
  {
   "cell_type": "markdown",
   "id": "76d620ef",
   "metadata": {},
   "source": [
    "---\n",
    "### Anforderungen\n",
    "\n",
    "#### Software & Module\n",
    "\n",
    "Dieses Tutorial setzt voraus, dass Sie mit der Programmiersprache [Python](https://python.org) vertraut sind. Die Kenntnis grundlegender REST-API-Konzepte und deren Verwendung wird ebenfalls vorausgesetzt.\n",
    "\n",
    "Die in diesem Tutorium verwendeten Python-Module sind:\n",
    "* [requests](http://docs.python-requests.org/)\n",
    "* [json](https://docs.python.org/3/library/json.html)\n",
    "* [leafmap](https://leafmap.org/)\n",
    "\n",
    "\n",
    "#### Actinia API Benutzer und Passwort\n",
    "\n",
    "Für diese Demo werden die Anmeldedaten für die Authentifizierung benötigt, die unten in **Vorbereitung** als Variable festgelegt sind. Eine andere actinia-Instanz kann andere Anmeldedaten erfordern."
   ]
  },
  {
   "cell_type": "markdown",
   "id": "08c7f32c",
   "metadata": {},
   "source": [
    "### Hilfsmodule und Funktionen\n",
    "\n",
    "Bevor wir mit dem actinia-Server über Python interagieren, werden wir die erforderlichen Pakete importieren und Hilfsfunktion erstellen."
   ]
  },
  {
   "cell_type": "markdown",
   "id": "f1a67b3a",
   "metadata": {},
   "source": [
    "## Vorbereitung\n",
    "\n",
    "Um diese Sitzung im Jupyter Notebook zu initialisieren, laden wir einige Python Bibliotheken. `matplotlib` und `leafmap` muss zudem zunächst noch installiert werden.\n",
    "\n",
    "**Wichtig:** Danach müssen wir uns einmal ausloggen (im Menü File -> Log Out) und wieder einloggen."
   ]
  },
  {
   "cell_type": "code",
   "execution_count": null,
   "id": "38a47368",
   "metadata": {},
   "outputs": [],
   "source": [
    "!pip install matplotlib\n",
    "!pip install -U leafmap"
   ]
  },
  {
   "cell_type": "markdown",
   "id": "cdc5f9bd",
   "metadata": {},
   "source": [
    "Bitte einmal ausloggen (im Menü File -> Log Out) und wieder einloggen."
   ]
  },
  {
   "cell_type": "markdown",
   "id": "c779d9be",
   "metadata": {},
   "source": [
    "Im mundialis JupyterHub müssen danach unter Umständen Pfade neu gesetzt werden, damit `matplotlib` auch gefunden wird. Eventuelle Warnungen von `pip install` müssen berücksichtigt werden."
   ]
  },
  {
   "cell_type": "code",
   "execution_count": null,
   "id": "ef182c1f",
   "metadata": {},
   "outputs": [],
   "source": [
    "# read the warnings of pip install to get the paths not in path\n",
    "# the user is the user of JupyterHub, depending on the installation\n",
    "\n",
    "import os\n",
    "import pwd\n",
    "import sys\n",
    "\n",
    "user = pwd.getpwuid(os.getuid()).pw_name\n",
    "pythonversion = f\"{sys.version_info[0]}.{sys.version_info[1]}\"\n",
    "\n",
    "# adjust PATH\n",
    "pythonbin = f\"/home/{user}/.local/bin\"\n",
    "path = os.getenv(\"PATH\")\n",
    "path = path + os.pathsep + pythonbin\n",
    "os.environ[\"PATH\"] = path\n",
    "\n",
    "# adjust PYTHONPATH\n",
    "pythonpath = f\"/home/{user}/.local/lib/python{pythonversion}/site-packages\"\n",
    "sys.path.append(pythonpath)"
   ]
  },
  {
   "cell_type": "markdown",
   "id": "64104013",
   "metadata": {},
   "source": [
    "Note: In den Notebooks in diesem Workshop wird `matplotlib` zur einfachen Darstellung der Ergebnisse genutzt. Alternativ gibt es die Bibliothek `leafmap`, ein Python-Paket für raumbezogene Analysen und interaktive Kartierungen in einer Jupyter-Umgebung: https://leafmap.org/ (siehe auch: [actinia with leafmap notebook](https://github.com/actinia-org/actinia-python-client/blob/main/notebooks/actinia_leafmap.ipynb))."
   ]
  },
  {
   "cell_type": "code",
   "execution_count": null,
   "id": "451fdce3",
   "metadata": {},
   "outputs": [],
   "source": [
    "# Zuerst werden die erforderlichen Python Bibliotheken importiert.\n",
    "\n",
    "import json\n",
    "import matplotlib.pyplot as plt\n",
    "import numpy as np\n",
    "from PIL import Image\n",
    "import shutil\n",
    "import time\n",
    "import os\n",
    "\n",
    "import leafmap\n",
    "import requests\n",
    "from requests.auth import HTTPBasicAuth"
   ]
  },
  {
   "cell_type": "markdown",
   "id": "cb0e108e",
   "metadata": {
    "scrolled": true
   },
   "source": [
    "Um die Kommunikation mit dem actinia Server zu vereinfachen, speichern wir die Anmeldedaten und die URL des REST-Servers in Variablen:"
   ]
  },
  {
   "cell_type": "code",
   "execution_count": null,
   "id": "689620c9",
   "metadata": {},
   "outputs": [],
   "source": [
    "# variables to set the actinia host, version, and user\n",
    "\n",
    "actinia_baseurl = \"https://actinia.mundialis.de\"\n",
    "actinia_version = \"v3\"\n",
    "actinia_user = \"fossgis2025\"\n",
    "actinia_pw = \"mohtaiF9Tu5fohw7\"\n",
    "actinia_url = f\"{actinia_baseurl}/api/{actinia_version}\"\n",
    "actinia_auth = HTTPBasicAuth(actinia_user, actinia_pw)"
   ]
  },
  {
   "cell_type": "markdown",
   "id": "34f1c45b",
   "metadata": {},
   "source": [
    "Als nächstes definieren wir zwei Hilfsfunktionen:\n",
    "- Funktion um ein formatiertes JSON auszugeben\n",
    "- Funktion um actinia Job abzufragen"
   ]
  },
  {
   "cell_type": "code",
   "execution_count": null,
   "id": "ce062f38",
   "metadata": {},
   "outputs": [],
   "source": [
    "# helper function to print formatted JSON using the json module\n",
    "\n",
    "def print_as_json(data):\n",
    "    print(json.dumps(data, indent=2))\n",
    "\n",
    "# helper function to verify a request\n",
    "def verify_request(request, success_code=200):\n",
    "    if request.status_code != success_code:\n",
    "        print(\"ERROR: actinia processing failed with status code %d!\" % request.status_code)\n",
    "        print(\"See errors below:\")\n",
    "        print_as_json(request.json())\n",
    "        request_url = request.json()[\"urls\"][\"status\"]\n",
    "        requests.delete(url=request_url, auth=actinia_auth)\n",
    "        raise Exception(\"The resource <%s> has been terminated.\" % request_url)"
   ]
  },
  {
   "cell_type": "markdown",
   "id": "3f9ea23a",
   "metadata": {},
   "source": [
    "## Beispiele\n",
    "\n",
    "* Datenverwaltung\n",
    "* Benutzerdefinierte Verarbeitung: eigene Prozesskette anhand des Beispiels der Berechnung des Normalized Difference Vegetation Index (NDVI).\n"
   ]
  },
  {
   "cell_type": "markdown",
   "id": "c1479e11",
   "metadata": {},
   "source": [
    "### Datenverwaltung\n",
    "\n",
    "Auflistung aller GRASS locations, die über den Endpunkt `/locations` in der persistenten Datenbank von actinia verfügbar sind:"
   ]
  },
  {
   "cell_type": "code",
   "execution_count": null,
   "id": "9a74b7f1",
   "metadata": {},
   "outputs": [],
   "source": [
    "# make a GET request to the actinia data API\n",
    "request_url = f\"{actinia_url}/locations\"\n",
    "print(\"actinia GET request:\")\n",
    "print(request_url)\n",
    "print(\"---\")\n",
    "request = requests.get(url=request_url, auth=actinia_auth)\n",
    "\n",
    "# check if anything went wrong\n",
    "verify_request(request, 200)\n",
    "\n",
    "# get a json-encoded content of the response\n",
    "jsonResponse = request.json()\n",
    "\n",
    "print(\"Available locations:\")\n",
    "\n",
    "# print formatted JSON\n",
    "print_as_json(jsonResponse)"
   ]
  },
  {
   "cell_type": "markdown",
   "id": "5ff6d905",
   "metadata": {},
   "source": [
    "#### Mapsets in Locations auflisten\n",
    "\n",
    "Auflisten aller **Mapsets** innerhalb der Location `fossgis2025_epsg25832_utm32N` über den Endpunkt `/locations/<location_name>/mapsets`:"
   ]
  },
  {
   "cell_type": "code",
   "execution_count": null,
   "id": "150c9fa6",
   "metadata": {},
   "outputs": [],
   "source": [
    "# make a GET request to the actinia data API\n",
    "request_url = actinia_url + \"/locations/fossgis2025_epsg25832_utm32N/mapsets\"\n",
    "print(\"actinia GET request:\")\n",
    "print(request_url)\n",
    "print(\"---\")\n",
    "request = requests.get(url=request_url, auth=actinia_auth)\n",
    "\n",
    "# check if anything went wrong\n",
    "verify_request(request, 200)\n",
    "\n",
    "# get a json-encoded content of the response\n",
    "jsonResponse = request.json()\n",
    "\n",
    "print(\"Mapsets in fossgis2025_epsg25832_utm32N location:\")\n",
    "\n",
    "# print formatted JSON\n",
    "print_as_json(jsonResponse[\"process_results\"])"
   ]
  },
  {
   "cell_type": "markdown",
   "id": "56391b19",
   "metadata": {},
   "source": [
    "#### Inhalt einer Mapset auflisten\n",
    "\n",
    "Auflisten aller **Rasterkarten** in der Location `fossgis2025_epsg25832_utm32N` und Mapset `PERMANENT` über den Endpunkt `/locations/<location_name>/mapsets/<mapset>/raster_layers`:"
   ]
  },
  {
   "cell_type": "code",
   "execution_count": null,
   "id": "7d82bc4f",
   "metadata": {},
   "outputs": [],
   "source": [
    "# make a GET request to the actinia data API\n",
    "request_url = f\"{actinia_url}/locations/fossgis2025_epsg25832_utm32N/mapsets/PERMANENT/raster_layers\"\n",
    "print(\"actinia GET request:\")\n",
    "print(request_url)\n",
    "print(\"---\")\n",
    "request = requests.get(url=request_url, auth=actinia_auth)\n",
    "\n",
    "# check if anything went wrong\n",
    "verify_request(request, 200)\n",
    "\n",
    "# get a json-encoded content of the response\n",
    "jsonResponse = request.json()\n",
    "\n",
    "print(\"Raster layers in mapset PERMANENT of location fossgis2025_epsg25832_utm32N:\")\n",
    "\n",
    "# print formatted JSON\n",
    "print_as_json(jsonResponse[\"process_results\"])"
   ]
  },
  {
   "cell_type": "markdown",
   "id": "829bbef6",
   "metadata": {},
   "source": [
    "Abfrage der **Rasterinformationen** von der Karte `nDOM` über den Endpunkt `/locations/<location_name>/mapsets/<mapset>/raster_layers/<raster>`:"
   ]
  },
  {
   "cell_type": "code",
   "execution_count": null,
   "id": "80eda1b1",
   "metadata": {},
   "outputs": [],
   "source": [
    "# make a GET request to the actinia data API\n",
    "request_url = f\"{actinia_url}/locations/fossgis2025_epsg25832_utm32N/mapsets/PERMANENT/raster_layers/ndom\"\n",
    "print(\"actinia GET request:\")\n",
    "print(request_url)\n",
    "print(\"---\")\n",
    "request = requests.get(url=request_url, auth=actinia_auth)\n",
    "\n",
    "# check if anything went wrong\n",
    "verify_request(request, 200)\n",
    "\n",
    "# get a json-encoded content of the response\n",
    "jsonResponse = request.json()\n",
    "\n",
    "print(\"Raster info of ndom in mapset PERMANENT of location fossgis2025_epsg25832_utm32N:\")\n",
    "\n",
    "# print formatted JSON\n",
    "print_as_json(jsonResponse[\"process_results\"])"
   ]
  },
  {
   "cell_type": "markdown",
   "id": "c9fd0811",
   "metadata": {},
   "source": [
    "**Rendere eine Rasterkarte**: Rendern der Karte `ndom` über den Endpunkt `/locations/<location_name>/mapsets/<mapset>/raster_layers/<raster>/render`:"
   ]
  },
  {
   "cell_type": "code",
   "execution_count": null,
   "id": "63ab0325",
   "metadata": {},
   "outputs": [],
   "source": [
    "# make a GET request to the actinia data API\n",
    "request_url = f\"{actinia_url}/locations/fossgis2025_epsg25832_utm32N/mapsets/PERMANENT/raster_layers/ndom/render\"\n",
    "print(\"actinia GET request:\")\n",
    "print(request_url)\n",
    "print(\"---\")\n",
    "request = requests.get(url=request_url, auth=actinia_auth, stream=True)\n",
    "\n",
    "# check if anything went wrong\n",
    "verify_request(request, 200)\n",
    "\n",
    "# download ndom into new folder\n",
    "os.makedirs('result', exist_ok=True)\n",
    "with open('result/ndom.png', 'wb') as out_file:\n",
    "    shutil.copyfileobj(request.raw, out_file)"
   ]
  },
  {
   "cell_type": "markdown",
   "id": "e1f82176",
   "metadata": {},
   "source": [
    "Die `ndom` Karte kann entweder über den obigen link angezeigt werden (user: `fossgis2025`, password: `mohtaiF9Tu5fohw7`) oder durch Ausführen der folgenden Code-Zelle"
   ]
  },
  {
   "cell_type": "code",
   "execution_count": null,
   "id": "72e89511",
   "metadata": {},
   "outputs": [],
   "source": [
    "img = np.asarray(Image.open(\"result/ndom.png\"))\n",
    "imgplot = plt.imshow(img)\n",
    "plt.xticks([]);\n",
    "plt.yticks([]);"
   ]
  },
  {
   "cell_type": "markdown",
   "id": "25cd3b05",
   "metadata": {},
   "source": [
    "Auflistung aller **Vektorkarten** in der Location `fossgis2025_epsg25832_utm32N` und Mapset `PERMANENT` über Endpunkt `/locations/<location_name>/mapsets/<mapset>/vector_layers`:"
   ]
  },
  {
   "cell_type": "code",
   "execution_count": null,
   "id": "59f7f9fe",
   "metadata": {},
   "outputs": [],
   "source": [
    "# make a GET request to the actinia data API\n",
    "request_url = f\"{actinia_url}/locations/fossgis2025_epsg25832_utm32N/mapsets/PERMANENT/vector_layers\"\n",
    "print(\"actinia GET request:\")\n",
    "print(request_url)\n",
    "print(\"---\")\n",
    "request = requests.get(url=request_url, auth=actinia_auth)\n",
    "\n",
    "# check if anything went wrong\n",
    "verify_request(request, 200)\n",
    "\n",
    "# get a json-encoded content of the response\n",
    "jsonResponse = request.json()\n",
    "\n",
    "print(\"Vector layers in mapset PERMANENT of location fossgis2025_epsg25832_utm32N:\")\n",
    "\n",
    "# print formatted JSON\n",
    "print_as_json(jsonResponse[\"process_results\"])"
   ]
  },
  {
   "cell_type": "markdown",
   "id": "f7e54bfd",
   "metadata": {},
   "source": [
    "---\n",
    "\n",
    "### Benutzerdefinierte Verarbeitung\n",
    "\n",
    "Actinia nutzt den **Prozesskettenansatz**, um für Import, Verarbeitung und Export von Geodaten mit dem actinia GRASS GIS Verarbeitungssystem zu kommunizieren.\n",
    "\n",
    "#### Was ist eine Prozesskette?\n",
    "\n",
    "Eine Prozesskette ist eine Liste von GRASS GIS Modulen, die nacheinander in der Reihenfolge der Liste ausgeführt werden. GRASS GIS Module werden als Prozessdefinitionen spezifiziert, die den Namen des Befehls, die Ein- und Ausgaben, einschließlich Import- und Exportdefinitionen sowie die Modulflags enthalten.\n",
    "\n",
    "Die Prozesskette muss in JSON formuliert werden.\n",
    "\n",
    "#### Ephemere vs. persistente Verarbeitung\n",
    "\n",
    "Die Verarbeitung erfolgt immer in einer temporären ephemeren Datenbank, mit der die Daten aus der persistenten und der Benutzerdatenbank verknüpft werden.\n",
    "\n",
    "Der Prozess kann dann **ephemeral** oder **persistent** durchgeführt werden.\n",
    "\n",
    "Bei der **persistenten** Verarbeitung kann die ephemere Datenbank in die persistente Benutzerdatenbank verschoben werden, so dass die Berechnungsergebnisse in weiteren Verarbeitungsschritten verwendet oder mit Hilfe der actinia REST-Aufrufe visualisiert werden können.\n",
    "\n",
    "Bei der **ephemeren** Verarbeitung wird die ephemere Datenbank nach der Berechnung entfernt.\n",
    "\n",
    "Allerdings können alle Raster- und Vektordaten, die während der Verarbeitung erzeugt wurden, mit GDAL/OGR-spezifischen Datentypen exportiert und in einem Objektspeicher außerhalb der actinia-Umgebung gespeichert werden. \n",
    "\n",
    "Bei beiden Verarbeitungstypen besteht nur Lesezugriff auf alle Karten des verwendeten persistenten Datenbankspeichers."
   ]
  },
  {
   "cell_type": "markdown",
   "id": "2591c918",
   "metadata": {},
   "source": [
    "#### Erstellen einer Prozesskette Schritt für Schritt\n",
    "\n",
    "Wir erstellen nun Schritt für Schritt eine Prozesskette anhand des Beispiels der Berechnung des Normalized Difference Vegetation Index (NDVI).\n",
    "\n",
    "Erstellen Sie zunächst eine leere Prozesskette:"
   ]
  },
  {
   "cell_type": "code",
   "execution_count": null,
   "id": "631f1425",
   "metadata": {},
   "outputs": [],
   "source": [
    "process_chain = {\"version\": 1, \"list\": []}"
   ]
  },
  {
   "cell_type": "markdown",
   "id": "524ed150",
   "metadata": {},
   "source": [
    "Fügen Sie den ersten Eintrag in die Prozesskettenliste ein.\n",
    "\n",
    "Für Rasteroperationen müssen wir die **Rechenregion** ([computational region](https://grasswiki.osgeo.org/wiki/Computational_region)) auf die Region von Interesse mit der gewünschten Auflösung setzen.\n",
    "\n",
    "***Hinweis:*** Sie müssen den Namen der Karte und der Mapset folgendermaßen angeben: `map_name@mapset_name`."
   ]
  },
  {
   "cell_type": "code",
   "execution_count": null,
   "id": "19988629",
   "metadata": {},
   "outputs": [],
   "source": [
    "# list item for g.region\n",
    "region_process = {\n",
    "  \"id\": \"g_region_to_dop\",\n",
    "  \"module\": \"g.region\",\n",
    "  \"inputs\": [\n",
    "      {\n",
    "          \"param\": \"raster\",\n",
    "          \"value\": \"dop_nir@PERMANENT\"\n",
    "      }\n",
    "  ],\n",
    "  \"flags\": \"p\"\n",
    "}\n",
    "process_chain[\"list\"].append(region_process)\n",
    "print_as_json(process_chain)"
   ]
  },
  {
   "cell_type": "markdown",
   "id": "05521c83",
   "metadata": {},
   "source": [
    "Nun fügen wir die NDVI-Verarbeitung in die Prozesskettenliste ein. Hier skalieren wir den NDVI auf 8bit Integer (Skalierung von -1.0..1.0 auf 0..255), um den Datensatz unter Beibehaltung der Genauigkeit datenplatzsparend weiterzuverarbeiten:"
   ]
  },
  {
   "cell_type": "code",
   "execution_count": null,
   "id": "7a3f7980",
   "metadata": {},
   "outputs": [],
   "source": [
    "# list item for r.mapcalc\n",
    "ndvi_process = {\n",
    "  \"id\": \"r_mapcalc_ndvi\",\n",
    "  \"module\": \"r.mapcalc\",\n",
    "  \"inputs\": [\n",
    "      {\n",
    "          \"param\": \"expression\",\n",
    "          \"value\": \"ndvi = round(127.5 * (1.0 + float((dop_nir@PERMANENT - dop_red@PERMANENT) / (dop_nir@PERMANENT + dop_red@PERMANENT))))\"\n",
    "      }\n",
    "  ]\n",
    "}\n",
    "process_chain[\"list\"].append(ndvi_process)\n",
    "print_as_json(process_chain)"
   ]
  },
  {
   "cell_type": "markdown",
   "id": "2d318226",
   "metadata": {},
   "source": [
    "Der NDVI-Karte wird anschließend eine entsprechend skalierte NDVI-Farbtabelle zugewiesen:\n"
   ]
  },
  {
   "cell_type": "code",
   "execution_count": null,
   "id": "ea5c36c8",
   "metadata": {},
   "outputs": [],
   "source": [
    "# list item for r.colors\n",
    "ndvi_colortable = {\n",
    "  \"module\": \"r.colors\",\n",
    "  \"id\": \"r.colors_ndvi\",\n",
    "  \"inputs\": [\n",
    "      {\n",
    "          \"param\": \"map\",\n",
    "          \"value\": \"ndvi\"\n",
    "      },\n",
    "      {\n",
    "          \"param\": \"color\",\n",
    "          \"value\": \"ndvi\"\n",
    "      },\n",
    "      {\n",
    "          \"param\": \"scale\",\n",
    "          \"value\": \"127.5\"\n",
    "      },\n",
    "      {\n",
    "          \"param\": \"offset\",\n",
    "          \"value\": \"1\"\n",
    "      }\n",
    "  ]\n",
    "}\n",
    "process_chain[\"list\"].append(ndvi_colortable)\n",
    "print_as_json(process_chain)"
   ]
  },
  {
   "cell_type": "markdown",
   "id": "be1fe396",
   "metadata": {},
   "source": [
    "Die Ausgabe der Statistikinformationen der berechneten NDVI-Karte als Prozessergebnis erfolgt über `stdout` ([Info](https://de.wikipedia.org/wiki/Standard-Datenstr%C3%B6me#Standardausgabe_(stdout))):"
   ]
  },
  {
   "cell_type": "code",
   "execution_count": null,
   "id": "ae071f5f",
   "metadata": {},
   "outputs": [],
   "source": [
    "# list item for r.univar\n",
    "result_id = \"ndvi_stats\"\n",
    "ndvi_stats_process = {\n",
    "          \"id\": \"r_univar_ndvi\",\n",
    "          \"module\": \"r.univar\",\n",
    "          \"inputs\": [\n",
    "              {\n",
    "                  \"param\": \"map\",\n",
    "                  \"value\": \"ndvi\"\n",
    "              }\n",
    "          ],\n",
    "          \"flags\": \"g\",\n",
    "          \"stdout\": {\"id\": result_id, \"format\": \"kv\", \"delimiter\": \"=\"}\n",
    "      }\n",
    "process_chain[\"list\"].append(ndvi_stats_process)\n",
    "print_as_json(process_chain)"
   ]
  },
  {
   "cell_type": "markdown",
   "id": "064de4ea",
   "metadata": {},
   "source": [
    "Die generierte NDVI-Rasterkarte wird exportiert, da wir im ephemeralen Modus rechnen werden:"
   ]
  },
  {
   "cell_type": "code",
   "execution_count": null,
   "id": "b32574d8",
   "metadata": {},
   "outputs": [],
   "source": [
    "# list item for exporter\n",
    "export_process = {\n",
    "  \"id\": \"exporter_ndvi\",\n",
    "  \"module\": \"exporter\",\n",
    "  \"outputs\": [\n",
    "    {\n",
    "      \"export\": {\n",
    "        \"type\": \"raster\",\n",
    "        \"format\": \"GTiff\"\n",
    "      },\n",
    "      \"param\": \"map\",\n",
    "      \"value\": \"ndvi\"\n",
    "    }\n",
    "  ]\n",
    "}\n",
    "process_chain[\"list\"].append(export_process)\n",
    "print_as_json(process_chain)"
   ]
  },
  {
   "cell_type": "markdown",
   "id": "69ad332e",
   "metadata": {},
   "source": [
    "Führen Sie nun den Job aus, indem Sie die Prozesskette an den ephemeren Endpunkt `/locations/<location_name>/processing_async_export` senden."
   ]
  },
  {
   "cell_type": "code",
   "execution_count": null,
   "id": "65a0a36c",
   "metadata": {},
   "outputs": [],
   "source": [
    "# create a POST request to the Actinia Data API\n",
    "request_url = f\"{actinia_url}/locations/fossgis2025_epsg25832_utm32N/processing_async_export\"\n",
    "request = requests.post(url=request_url, auth=actinia_auth, json=process_chain)\n",
    "\n",
    "# check if anything went wrong\n",
    "verify_request(request, 200)\n",
    "\n",
    "# get a json-encoded content of the response\n",
    "jsonResponse = request.json()\n",
    "print(f\"Response with status code: {request.status_code}\")\n",
    "\n",
    "# print formatted JSON\n",
    "print_as_json(jsonResponse)\n",
    "\n",
    "# status url\n",
    "request_url = jsonResponse[\"urls\"][\"status\"]\n",
    "print(f\"status url: {request_url}\")"
   ]
  },
  {
   "cell_type": "markdown",
   "id": "631dbbbc",
   "metadata": {},
   "source": [
    "Das Wichtigste an der actinia-Antwort ist der **Status**, der `accepted` oder `running` sein sollte, und die **Status-URL** unter `urls - status`.\n",
    "\n",
    "Die Verarbeitung erfolgt asynchron, was bedeutet, dass die Anfrage gesendet wird und Sie nur die Status-URL erhalten, so dass Sie den aktuellen Status der Verarbeitung abfragen können, bis der Job beendet ist.\n",
    "\n",
    "Der **Status** eines Prozesses kann sein:\n",
    "* accepted: actinia hat den Auftrag erhalten und wird in Kürze mit der Verarbeitung beginnen\n",
    "* running: actinia führt den Auftrag aus\n",
    "* finished: actinia hat den Auftrag erfolgreich beendet\n",
    "* error: während der Ausführung des Auftrags ist ein Fehler aufgetreten\n",
    "* terminated: ein: Benutzer:in hat den Auftrag abgebrochen"
   ]
  },
  {
   "cell_type": "markdown",
   "id": "25e91b81",
   "metadata": {},
   "source": [
    "Job abfragen, bis zum Abschluss oder Fehler:"
   ]
  },
  {
   "cell_type": "code",
   "execution_count": null,
   "id": "baa47f56",
   "metadata": {},
   "outputs": [],
   "source": [
    "# continue polling until finished\n",
    "print(request_url)\n",
    "\n",
    "while request.status_code == 200 and \\\n",
    "        jsonResponse[\"message\"] != \"Processing successfully finished\":\n",
    "    request = requests.get(url=request_url, auth=actinia_auth)\n",
    "    jsonResponse = request.json()\n",
    "    # wait 10 seconds before requesting again\n",
    "    time.sleep(10)\n",
    "\n",
    "# check if anything went wrong\n",
    "verify_request(request, 200)\n",
    "\n",
    "# print formatted JSON\n",
    "print_as_json(jsonResponse)"
   ]
  },
  {
   "cell_type": "markdown",
   "id": "3d000536",
   "metadata": {},
   "source": [
    "### Visualisierung der Ergebnisse mit Leafmap\n",
    "\n",
    "Um die berechnete `ndvi`-Ergebniskarte anzuzeigen, ist die Ergebniskarten-URL der actinia-Antwort um noch um `user:password@server` zu ergänzen."
   ]
  },
  {
   "cell_type": "code",
   "execution_count": null,
   "id": "36fde7ec",
   "metadata": {},
   "outputs": [],
   "source": [
    "result_url = jsonResponse[\"urls\"][\"resources\"][0]\n",
    "print(result_url)\n",
    "raster_url = result_url.replace(\"//\", f\"//{actinia_user}:{actinia_pw}@\")"
   ]
  },
  {
   "cell_type": "markdown",
   "id": "ddf34d37",
   "metadata": {},
   "source": [
    "[Leafmap](https://leafmap.org) ist ein Python-Paket für interaktives Mapping und raumbezogene Analysen mit minimalem Programmieraufwand in einer Jupyter-Umgebung. Wir nutzen es, um die Ergebnisse von actinia zu visualisieren."
   ]
  },
  {
   "cell_type": "code",
   "execution_count": null,
   "id": "5ab88497",
   "metadata": {},
   "outputs": [],
   "source": [
    "result_url = jsonResponse[\"urls\"][\"resources\"][0]\n",
    "print(result_url)\n",
    "raster_url = result_url.replace(\"//\", f\"//{actinia_user}:{actinia_pw}@\")\n",
    "\n",
    "# set user-defined colors as hex or RGB values (here: NDVI rescaled to 0..255, colors converted from r.colors.out)\n",
    "vmin = 0\n",
    "vmax = 255\n",
    "colors = [\"051852\", \"FFFFFF\", \"FFFFFF\", \"CEC5B4\", \"BFA37C\", \"B3AE60\", \"A3B550\", \"90AA3C\", \"A6C31D\", \"87B703\", \"79AF01\",\n",
    "          \"65A300\", \"4E9700\", \"2B8404\", \"007200\", \"005A01\", \"004900\", \"003800\", \"001F00\", \"000000\", \"FFFFFF\", \"FFFFFF\"]\n",
    "\n",
    "# visualization of NDVI over aerial image with leafmap\n",
    "m = leafmap.Map()\n",
    "m.add_colorbar(colors=colors, vmin=vmin, vmax=vmax)\n",
    "m.add_basemap(\"Esri.WorldImagery\")\n",
    "m.add_cog_layer(\n",
    "    raster_url,\n",
    "    label=\"NDVI map\"\n",
    ")\n",
    "# show map\n",
    "m"
   ]
  },
  {
   "cell_type": "markdown",
   "id": "2b0a1dc7",
   "metadata": {},
   "source": [
    "In der Prozesskette wurden die NDVI Statistiken als weitere Prozessergebnisse festgelegt, und können abgefragt werden."
   ]
  },
  {
   "cell_type": "code",
   "execution_count": null,
   "id": "45bfc32c",
   "metadata": {},
   "outputs": [],
   "source": [
    "print(\"NDVI stats as process results:\")\n",
    "print_as_json(jsonResponse[\"process_results\"][result_id])"
   ]
  },
  {
   "cell_type": "code",
   "execution_count": null,
   "id": "6bb883d0",
   "metadata": {},
   "outputs": [],
   "source": []
  }
 ],
 "metadata": {
  "kernelspec": {
   "display_name": "venv",
   "language": "python",
   "name": "python3"
  },
  "language_info": {
   "codemirror_mode": {
    "name": "ipython",
    "version": 3
   },
   "file_extension": ".py",
   "mimetype": "text/x-python",
   "name": "python",
   "nbconvert_exporter": "python",
   "pygments_lexer": "ipython3",
   "version": "3.12.3"
  },
  "widgets": {
   "application/vnd.jupyter.widget-state+json": {
    "state": {},
    "version_major": 2,
    "version_minor": 0
   }
  }
 },
 "nbformat": 4,
 "nbformat_minor": 5
}
