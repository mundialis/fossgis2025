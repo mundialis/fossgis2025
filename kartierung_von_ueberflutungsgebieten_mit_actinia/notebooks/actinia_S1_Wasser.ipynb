{
 "cells": [
  {
   "cell_type": "markdown",
   "id": "c18254f0",
   "metadata": {},
   "source": [
    "![Image](images/actinia_logo.png)\n",
    "\n",
    "## Kartierung von Überflutungsgebieten aus Sentinel-1 Radardaten mit Hilfe von actinia\n",
    "\n",
    "### Die actinia Prozesskette\n",
    "\n",
    "Actinia nutzt den **Prozesskettenansatz**, um für Import, Verarbeitung und\n",
    "Export von Geodaten mit dem actinia GRASS GIS Verarbeitungssystem zu \n",
    "kommunizieren. Die Prozesskette muss in JSON formuliert sein.\n",
    "\n",
    "Eine Prozesskette ist eine Liste von GRASS GIS Modulen, die nacheinander in der Reihenfolge der Liste ausgeführt werden. GRASS GIS Module werden als Prozessdefinitionen spezifiziert, die den Namen des Befehls, die Ein- und Ausgaben, einschließlich Import- und Exportdefinitionen sowie die Modulflags enthalten.\n",
    "\n",
    "Dieser Workshop benutzt die Python Bibliothek **requests** für Interaktion mit dem actinia REST Dienst."
   ]
  },
  {
   "cell_type": "markdown",
   "id": "7079d8ea",
   "metadata": {},
   "source": [
    "---\n",
    "### actinia API Dokumentation\n",
    "\n",
    "* [actinia \"stable\" API v3 docs](https://redocly.github.io/redoc/?url=https://actinia.mundialis.de/api/v3/swagger.json)\n",
    "* [actinia \"development\" API v3 docs](https://redocly.github.io/redoc/?url=https://actinia-dev.mundialis.de/api/v3/swagger.json)"
   ]
  },
  {
   "cell_type": "markdown",
   "id": "6c7b22d9",
   "metadata": {},
   "source": [
    "---\n",
    "### Anforderungen\n",
    "\n",
    "#### Software & Module\n",
    "\n",
    "Dieses Tutorial setzt voraus, dass Sie mit der Programmiersprache [Python](https://python.org) vertraut sind. Die Kenntnis grundlegender [REST](https://de.wikipedia.org/wiki/Representational_State_Transfer)-API-Konzepte und deren Verwendung wird ebenfalls vorausgesetzt.\n",
    "\n",
    "Die in diesem Tutorium verwendeten Python-Module sind:\n",
    "* [requests](http://docs.python-requests.org/)\n",
    "* [json](https://docs.python.org/3/library/json.html)\n",
    "* [leafmap](https://leafmap.org/)\n",
    "* [actinia-python-client](https://actinia-org.github.io/actinia-python-client/)\n",
    "\n",
    "\n",
    "#### ACTINIA API Benutzer und Passwort\n",
    "\n",
    "Für diesen Workshop werden die Anmeldedaten für die Authentifizierung benötigt, die unten in **Vorbereitung** als Variable festgelegt sind. Eine andere actinia-Instanz kann andere Anmeldedaten erfordern."
   ]
  },
  {
   "cell_type": "markdown",
   "id": "27c600f9",
   "metadata": {},
   "source": [
    "### Python Module und Hilfs-Funktionen\n",
    "\n",
    "Bevor wir mit dem actinia-Server über Python interagieren, werden wir die erforderlichen Pakete importieren und eine Hilfsfunktion einrichten, um ein formatiertes JSON ausgeben zu lassen."
   ]
  },
  {
   "cell_type": "markdown",
   "id": "ea084fe5",
   "metadata": {},
   "source": [
    "## Vorbereitung\n",
    "\n",
    "Wir nutzen [Leafmap](https://leafmap.org) um die Ergebnisse von actinia zu visualisieren. Leafmap ist ein Python-Paket für interaktives Mapping und raumbezogene Analysen mit minimalem Programmieraufwand in einer Jupyter-Umgebung (siehe auch: [actinia with leafmap notebook](https://github.com/actinia-org/actinia-python-client/blob/main/notebooks/actinia_leafmap.ipynb)).\n",
    "\n",
    "Als weiteres Paket installieren wir den Python Client Library für actinia ([actinia-python-client](https://github.com/actinia-org/actinia-python-client/)).\n",
    "\n",
    "**Wichtig:** Danach müssen wir uns einmal ausloggen (im Menü File -> Log Out) und wieder einloggen."
   ]
  },
  {
   "cell_type": "code",
   "execution_count": null,
   "id": "dfb24ef4",
   "metadata": {},
   "outputs": [],
   "source": [
    "!pip install -U leafmap\n",
    "!pip install actinia-python-client==0.4.1"
   ]
  },
  {
   "cell_type": "markdown",
   "id": "37d1d50d-f7d1-4248-b0d7-67ab87b5c51c",
   "metadata": {},
   "source": [
    "Bitte einmal ausloggen (im Menü File -> Log Out) und wieder einloggen."
   ]
  },
  {
   "cell_type": "markdown",
   "id": "48676965",
   "metadata": {},
   "source": [
    "Im mundialis JupyterHub müssen danach unter Umständen Pfade neu gesetzt werden, damit matplotlib auch gefunden wird. Eventuelle Warnungen von pip install müssen berücksichtigt werden."
   ]
  },
  {
   "cell_type": "code",
   "execution_count": null,
   "id": "88f19cfa-ac45-40d4-83e9-c37369052d1c",
   "metadata": {},
   "outputs": [],
   "source": [
    "import os\n",
    "import pwd\n",
    "import sys\n",
    "\n",
    "user = pwd.getpwuid(os.getuid()).pw_name\n",
    "pythonversion = f\"{sys.version_info[0]}.{sys.version_info[1]}\"\n",
    "\n",
    "# adjust PATH\n",
    "pythonbin = f\"/home/{user}/.local/bin\"\n",
    "path = os.getenv(\"PATH\")\n",
    "path = path + os.pathsep + pythonbin\n",
    "os.environ[\"PATH\"] = path\n",
    "\n",
    "# adjust PYTHONPATH\n",
    "\n",
    "pythonpath = f\"/home/{user}/.local/lib/python{pythonversion}/site-packages\"\n",
    "sys.path.append(pythonpath)"
   ]
  },
  {
   "cell_type": "code",
   "execution_count": null,
   "id": "e5bf0f9a",
   "metadata": {},
   "outputs": [],
   "source": [
    "# Zuerst werden die erforderlichen Bibliotheken importiert.\n",
    "\n",
    "import json\n",
    "\n",
    "import leafmap\n",
    "import requests\n",
    "from requests.auth import HTTPBasicAuth\n",
    "from actinia.utils import create_actinia_pc_item"
   ]
  },
  {
   "cell_type": "markdown",
   "id": "3d762264",
   "metadata": {
    "scrolled": true
   },
   "source": [
    "Um die Kommunikation mit dem actinia Server zu vereinfachen, speichern wir die Anmeldedaten und die URL des REST-Servers in Variablen:"
   ]
  },
  {
   "cell_type": "code",
   "execution_count": null,
   "id": "f8265286",
   "metadata": {},
   "outputs": [],
   "source": [
    "# variables to set the actinia host, version, and user\n",
    "\n",
    "actinia_baseurl = \"https://actinia.mundialis.de\"\n",
    "actinia_version = \"v3\"\n",
    "actinia_user = \"fossgis2025\"\n",
    "actinia_pw = \"mohtaiF9Tu5fohw7\"\n",
    "actinia_url = f\"{actinia_baseurl}/api/{actinia_version}\"\n",
    "# user, pw for the FOSSGIS 2023 workshop\n",
    "actinia_auth = HTTPBasicAuth(actinia_user, actinia_pw)"
   ]
  },
  {
   "cell_type": "markdown",
   "id": "40cef0ff",
   "metadata": {},
   "source": [
    "## Hilfs-Funktionen"
   ]
  },
  {
   "cell_type": "code",
   "execution_count": null,
   "id": "1a4a4423",
   "metadata": {},
   "outputs": [],
   "source": [
    "# helper function to print formatted JSON using the json module\n",
    "\n",
    "def print_as_json(data):\n",
    "    print(json.dumps(data, indent=2))\n",
    "\n",
    "# helper function to verify a request\n",
    "def verify_request(request, success_code=200):\n",
    "    if request.status_code != success_code:\n",
    "        print(\"ERROR: actinia processing failed with status code %d!\" % request.status_code)\n",
    "        print(\"See errors below:\")\n",
    "        print_as_json(request.json())\n",
    "        request_url = request.json()[\"urls\"][\"status\"]\n",
    "        requests.delete(url=request_url, auth=actinia_auth)\n",
    "        raise Exception(\"The resource <%s> has been terminated.\" % request_url)"
   ]
  },
  {
   "cell_type": "markdown",
   "id": "037d57e1",
   "metadata": {},
   "source": [
    "## Detektion von Wasserflächen mit Sentinel-1 Radardaten\n",
    "\n",
    "### Eingabedaten\n",
    "\n",
    "In diesem Beispiel werden Sentinel-1 Radardaten als Input für die Detektion von Wasserflächen, z.B. Überflutungsgebieten verwendet. Radardaten haben gegenüber optischen Aufnahmen den Vorteil, dass aktive Sensoren wie Sentinel-1 Radardaten aussenden und die Rückstrahlung (backscatter) aufnehmen und somit auch unabhängig von Wolkenbedeckung und Sonnenschein sind.\n",
    "\n",
    "Sentinel-1 ist ein aktiver C-Band-SAR-Satellit (Synthetic Aperture Radar) und war die erste Satellitenserie, die im Rahmen des Copernicus-Programms gestartet wurde. Diese Serie besteht aus mehreren Einzelsatelliten, Sentinel-1A, Sentinel-1B, Sentinel-1C und Sentinel-1D, was zu hohen potenziellen Wiederholungszeiten von ein bis fünf Tagen je nach Standort führt. Von diesen vier Satellten sind aktuell Sentinel-1A und Sentinel-1C aktiv. Sentinel-1B wurde abgeschaltet, Sentinel-1D startet Ende 2025. Wir verwenden in diesem Workshop GRD (ground-range detected) Produkte mit einer räumlichen Auflösung von 10 m. \n",
    "\n",
    "### Wasserflächen im Radarbild\n",
    "\n",
    "Zusätzlich zu Messungen des Meeresspiegels können aus den Sentinel-1 Daten verschiedene andere Bodeneigenschaften abgeleitet werden, z.B. Bodenfeuchte, Rauhigkeit, Waldbeckung, Eisbdeckung, Wasserbedeckung. Wasser und Land lassen sich theoretisch recht einfach unterscheiden, da Wasser niedrigere Werte hat als Land. Wenn für eine gegebene Landfläche eine bimodale Verteilung der Werte vorliegt, kann davon ausgegangen werden, dass größere Flächen von offenem Wasser bedeckt sind.\n",
    "\n",
    "<div>\n",
    "<img src=\"images/water_land_bimodal-gr3_lrg.jpg\" width=\"600\"/>\n",
    "</div>\n",
    "\n",
    "### Zusätzliche Eingabedaten\n",
    "\n",
    "Zusätzlich wird ein Höhenmodell verwendet, um für jeden Pixel die Höhe über dem nahesten Wasserabfluss zu bestimmen. Diese Information wird benutzt, um falsch klassifizierte Wasserpixel zu entfernen.\n"
   ]
  },
  {
   "cell_type": "markdown",
   "id": "45d9b347",
   "metadata": {},
   "source": [
    "## Vorbereitung von Sentinel-1 Radardaten\n",
    "\n",
    "SAR-Daten (Synthetic Aperture Radar), wie sie von Sentinel-1 geliefert werden, sind sehr komplex und erfordern umfangreiche Vorverarbeitung, um für eigentliche Analysen geeignet zu sein. Zu den typischen Schritten gehören die Kalibrierung zur Beseitigung von Sensorrauschen, die radiometrische Geländekorrektur zur Anpassung an topografische Effekte und die Orthorektifizierung zur Gewährleistung der räumlichen Genauigkeit. Diese Schritte sind unerlässlich, um Radar-Rohdaten in \"analyse-ready Daten\" (ARD) umzuwandeln, die anschließend mit geografischen Analysetools verwendet werden können.\n",
    "\n",
    "Seit kurzem werden Sentinel-1 Daten auch als Analysis-Ready-Data (ARD) bereitgestellt, allerdings nur als monatliche Komposite. Diese monatliche Aggregierung ist allerdings nicht geeignet, um kurzfrsitige Überflutungsereignisse zu erfassen.\n",
    "\n",
    "Üblicherweise werden Sentinel-1 Rohdaten mit ESA's Open Source [SNAP](https://step.esa.int/main/download/snap-download/) Software aufbereitet.\n",
    "\n",
    "Für GRASS gibt es das addon [i.sentinel1.pyrosargeocode](https://github.com/NVE/actinia_modules_nve/tree/main/src/imagery/i.sentinel1.pyrosargeocode), das auch in aktuellen actinia images enthalten ist. Dieses addon benutzt zusätzlich zu SNAP auch [pyroSAR](https://github.com/johntruckenbrodt/pyroSAR) Der Prozess der Umwandlung von SAR-Daten ist jedoch sehr rechenintensiv, deswegen wurden die in diesem Workshop benötigten Sentinel-1 Daten bereits vorverarbeitet und stehen in der benutzten actinia Instanz zur Verfügung.\n"
   ]
  },
  {
   "cell_type": "markdown",
   "id": "872206c0-b44f-44ee-ae3a-82fdc1106395",
   "metadata": {},
   "source": [
    "#### Mapsets in Locations auflisten\n",
    "\n",
    "Auflisten aller **Mapsets** innerhalb der Location `fossgis2025_ecuador` über den Endpunkt `/locations/<location_name>/mapsets`:"
   ]
  },
  {
   "cell_type": "code",
   "execution_count": null,
   "id": "88f83cf0-ecc9-461c-800d-7bb89234076f",
   "metadata": {},
   "outputs": [],
   "source": [
    "# make a GET request to the actinia data API\n",
    "request_url = actinia_url + \"/locations/fossgis2025_ecuador/mapsets\"\n",
    "print(\"actinia GET request:\")\n",
    "print(request_url)\n",
    "print(\"---\")\n",
    "request = requests.get(url=request_url, auth=actinia_auth)\n",
    "\n",
    "# check if anything went wrong\n",
    "verify_request(request, 200)\n",
    "\n",
    "# get a json-encoded content of the response\n",
    "jsonResponse = request.json()\n",
    "\n",
    "print(\"Mapsets in fossgis2025_ecuador location:\")\n",
    "\n",
    "# print formatted JSON\n",
    "print_as_json(jsonResponse[\"process_results\"])"
   ]
  },
  {
   "cell_type": "markdown",
   "id": "52a9f739-736d-474d-aac1-893200239874",
   "metadata": {},
   "source": [
    "#### Inhalt einer Mapset auflisten\n",
    "\n",
    "Auflisten aller **Rasterkarten** in der Location `fossgis2025_ecuador` und Mapset `S1_watermask` über den Endpunkt `/locations/<location_name>/mapsets/<mapset>/raster_layers`:"
   ]
  },
  {
   "cell_type": "code",
   "execution_count": null,
   "id": "259d6b61-f78c-434d-a8d9-bb3261f4f9aa",
   "metadata": {},
   "outputs": [],
   "source": [
    "# make a GET request to the actinia data API\n",
    "request_url = f\"{actinia_url}/locations/fossgis2025_ecuador/mapsets/S1_watermask/raster_layers\"\n",
    "print(\"actinia GET request:\")\n",
    "print(request_url)\n",
    "print(\"---\")\n",
    "request = requests.get(url=request_url, auth=actinia_auth)\n",
    "\n",
    "# check if anything went wrong\n",
    "verify_request(request, 200)\n",
    "\n",
    "# get a json-encoded content of the response\n",
    "jsonResponse = request.json()\n",
    "\n",
    "print(\"Raster layers in mapset S1_watermask of location fossgis2025_ecuador:\")\n",
    "\n",
    "# print formatted JSON\n",
    "print_as_json(jsonResponse[\"process_results\"])"
   ]
  },
  {
   "cell_type": "markdown",
   "id": "0628542a-ec27-4581-a828-30f13bc2d7fa",
   "metadata": {},
   "source": [
    "Abfrage der **Rasterinformationen** von der Karte `S1B_IW_GRDH_1SDV_20170330T233603_20170330T233634_004944_008A54_8BDD_Sigma0_VV_log` über den Endpunkt `/locations/<location_name>/mapsets/<mapset>/raster_layers/<raster>`:"
   ]
  },
  {
   "cell_type": "code",
   "execution_count": null,
   "id": "3a16ac32-455d-4e95-b22d-02d2683948c5",
   "metadata": {},
   "outputs": [],
   "source": [
    "# make a GET request to the actinia data API\n",
    "request_url = f\"{actinia_url}/locations/fossgis2025_ecuador/mapsets/S1_watermask/raster_layers/S1B_IW_GRDH_1SDV_20170330T233603_20170330T233634_004944_008A54_8BDD_Sigma0_VV_log\"\n",
    "print(\"actinia GET request:\")\n",
    "print(request_url)\n",
    "print(\"---\")\n",
    "request = requests.get(url=request_url, auth=actinia_auth)\n",
    "\n",
    "# check if anything went wrong\n",
    "verify_request(request, 200)\n",
    "\n",
    "# get a json-encoded content of the response\n",
    "jsonResponse = request.json()\n",
    "\n",
    "print(\"Raster info of sample S1 radar in mapset S1_watermask of location fossgis2025_ecuador:\")\n",
    "\n",
    "# print formatted JSON\n",
    "print_as_json(jsonResponse[\"process_results\"])"
   ]
  },
  {
   "cell_type": "markdown",
   "id": "066589b0",
   "metadata": {},
   "source": [
    "## Erstellen einer Prozesskette Schritt für Schritt\n",
    "\n",
    "Zuerst wird die actinia request URL für asynchrones Prozessieren gesetzt und eine leere Prozesskette erstellt."
   ]
  },
  {
   "cell_type": "code",
   "execution_count": null,
   "id": "849115a8",
   "metadata": {},
   "outputs": [],
   "source": [
    "# create a POST request to the Actinia Data API\n",
    "request_url = f\"{actinia_url}/locations/fossgis2025_ecuador/processing_async_export\"\n",
    "\n",
    "process_chain = {\"version\": 1, \"list\": []}"
   ]
  },
  {
   "cell_type": "markdown",
   "id": "8d8b21ac",
   "metadata": {},
   "source": [
    "## Hinzufügen von Einträgen zu der Prozesskette\n",
    "\n",
    "Setzen der aktuellen Region für Raster-Prozessierung"
   ]
  },
  {
   "cell_type": "code",
   "execution_count": null,
   "id": "ebfed3eb",
   "metadata": {},
   "outputs": [],
   "source": [
    "# list item for g.region\n",
    "list_id = \"g_region_watermask\"\n",
    "# long form, as in a process chain\n",
    "inputs = [{\"param\": \"n\",\n",
    "           \"value\": \"9847795\"\n",
    "          },\n",
    "          {\"param\": \"s\",\n",
    "           \"value\": \"9806336\"\n",
    "          },\n",
    "          {\"param\": \"w\",\n",
    "           \"value\": \"597713\"\n",
    "          },\n",
    "          {\"param\": \"e\",\n",
    "           \"value\": \"653372\"\n",
    "          },\n",
    "          {\"param\": \"align\",\n",
    "           \"value\": \"S1B_IW_GRDH_1SDV_20170330T233603_20170330T233634_004944_008A54_8BDD_Sigma0_VV_log@S1_watermask\"\n",
    "          }]\n",
    "\n",
    "# short form, accepted by create_actinia_pc_item\n",
    "inputs = {\"n\": \"9847795\",\n",
    "          \"s\": \"9806336\",\n",
    "          \"w\": \"597713\",\n",
    "          \"e\": \"653372\",\n",
    "          \"align\": \"S1B_IW_GRDH_1SDV_20170330T233603_20170330T233634_004944_008A54_8BDD_Sigma0_VV_log@S1_watermask\"}\n",
    "\n",
    "flags = \"p\"\n",
    "stdout = {\"id\": \"region_watermask\", \"format\": \"list\", \"delimiter\": \"\\n\"}\n",
    "\n",
    "pc_item = create_actinia_pc_item(id=list_id,\n",
    "                                 module=\"g.region\",\n",
    "                                 inputs=inputs,\n",
    "                                 stdout=stdout,\n",
    "                                 flags=flags)\n",
    "process_chain[\"list\"].append(pc_item)\n",
    "\n",
    "print_as_json(process_chain)"
   ]
  },
  {
   "cell_type": "markdown",
   "id": "97043b2b",
   "metadata": {},
   "source": [
    "### HAND (Height Above Nearest Drainage) vom Höhenmodell berechnen"
   ]
  },
  {
   "cell_type": "markdown",
   "id": "a07e24b0",
   "metadata": {},
   "source": [
    "#### Info zum DEM Raster"
   ]
  },
  {
   "cell_type": "code",
   "execution_count": null,
   "id": "c771f47f",
   "metadata": {},
   "outputs": [],
   "source": [
    "# list item for r.info\n",
    "list_id = \"r_info_dem\"\n",
    "# long form\n",
    "inputs = [{\"param\": \"map\",\n",
    "           \"value\": \"ecuador_nasadem_rounded@S1_watermask\"\n",
    "          }]\n",
    "\n",
    "# short form\n",
    "inputs = {\"map\": \"ecuador_nasadem_rounded@S1_watermask\"}\n",
    "flags = \"r\"\n",
    "\n",
    "stdout = {\"id\": \"dem_range\", \"format\": \"kv\", \"delimiter\": \"=\"}\n",
    "pc_item = create_actinia_pc_item(id=list_id,\n",
    "                                 module=\"r.info\",\n",
    "                                 inputs=inputs,\n",
    "                                 flags=flags,\n",
    "                                 stdout=stdout)\n",
    "process_chain[\"list\"].append(pc_item)\n",
    "\n",
    "print_as_json(process_chain)"
   ]
  },
  {
   "cell_type": "markdown",
   "id": "c17b7e1b-e692-40d1-bd3a-e8a8240cc1bb",
   "metadata": {},
   "source": [
    "#### Flussnetzwerk berechnen"
   ]
  },
  {
   "cell_type": "code",
   "execution_count": null,
   "id": "46fefd14",
   "metadata": {},
   "outputs": [],
   "source": [
    "# list item for r.watershed\n",
    "list_id = \"r_watershed_streams\"\n",
    "# long form\n",
    "inputs = [{\"param\": \"elevation\",\n",
    "           \"value\": \"ecuador_nasadem_rounded@S1_watermask\"\n",
    "          },\n",
    "          {\"param\": \"threshold\",\n",
    "           \"value\": \"10000\"\n",
    "          },\n",
    "          {\"param\": \"convergence\",\n",
    "           \"value\": \"5\"\n",
    "          }]\n",
    "outputs = [{\"param\": \"drainage\",\n",
    "            \"value\": \"drainage\"\n",
    "           },\n",
    "           {\"param\": \"stream\",\n",
    "            \"value\": \"streams\"\n",
    "           }]\n",
    "\n",
    "# short form\n",
    "inputs = {\"elevation\": \"ecuador_nasadem_rounded@S1_watermask\",\n",
    "          \"threshold\": \"10000\",\n",
    "          \"convergence\": \"5\"}\n",
    "outputs = {\"drainage\": \"drainage\",\n",
    "           \"stream\": \"streams\"}\n",
    "\n",
    "pc_item = create_actinia_pc_item(id=list_id,\n",
    "                                 module=\"r.watershed\",\n",
    "                                 inputs=inputs,\n",
    "                                 outputs=outputs)\n",
    "process_chain[\"list\"].append(pc_item)\n",
    "\n",
    "print_as_json(process_chain)"
   ]
  },
  {
   "cell_type": "markdown",
   "id": "d8166525-3fc7-4e5d-a951-b34afd42fab1",
   "metadata": {},
   "source": [
    "#### Höhe über nahestem Fluss"
   ]
  },
  {
   "cell_type": "code",
   "execution_count": null,
   "id": "3416b7db-d588-4d02-8d73-c0483b46f164",
   "metadata": {},
   "outputs": [],
   "source": [
    "# list item for r.stream.distance\n",
    "list_id = \"r_stream_distance\"\n",
    "# long form\n",
    "inputs = [{\"param\": \"stream_rast\",\n",
    "           \"value\": \"streams\"\n",
    "          },\n",
    "          {\"param\": \"direction\",\n",
    "           \"value\": \"drainage\"\n",
    "          },\n",
    "          {\"param\": \"elevation\",\n",
    "           \"value\": \"ecuador_nasadem_rounded@S1_watermask\"\n",
    "          },\n",
    "          {\"param\": \"method\",\n",
    "           \"value\": \"downstream\"\n",
    "          }]\n",
    "outputs = [{\"param\": \"difference\",\n",
    "            \"value\": \"HAND_ecuador_raw\"\n",
    "           }]\n",
    "\n",
    "# short form\n",
    "inputs = {\"stream_rast\": \"streams\",\n",
    "          \"direction\": \"drainage\",\n",
    "          \"elevation\": \"ecuador_nasadem_rounded@S1_watermask\",\n",
    "          \"method\": \"downstream\"}\n",
    "outputs = {\"difference\": \"HAND_ecuador_raw\"}\n",
    "\n",
    "pc_item = create_actinia_pc_item(id=list_id,\n",
    "                                 module=\"r.stream.distance\",\n",
    "                                 inputs=inputs,\n",
    "                                 outputs=outputs)\n",
    "process_chain[\"list\"].append(pc_item)\n",
    "\n",
    "print_as_json(process_chain)"
   ]
  },
  {
   "cell_type": "markdown",
   "id": "bbfbb730-30d3-45df-861a-b4fcfefe5dc5",
   "metadata": {},
   "source": [
    "#### Gefälle des Geländes"
   ]
  },
  {
   "cell_type": "code",
   "execution_count": null,
   "id": "1aa89ea2-e173-4733-ac6b-934b0ce80214",
   "metadata": {},
   "outputs": [],
   "source": [
    "# list item for r.slope.aspect\n",
    "list_id = \"r_slope_aspect\"\n",
    "# long form\n",
    "inputs = [{\"param\": \"elevation\",\n",
    "           \"value\": \"ecuador_nasadem_rounded@S1_watermask\"\n",
    "          },\n",
    "          {\"param\": \"format\",\n",
    "           \"value\": \"degrees\"\n",
    "          },\n",
    "          {\"param\": \"precision\",\n",
    "           \"value\": \"FCELL\"\n",
    "          },\n",
    "          {\"param\": \"zscale\",\n",
    "           \"value\": \"1.0\"\n",
    "          },\n",
    "          {\"param\": \"min_slope\",\n",
    "           \"value\": \"0.0\"\n",
    "          }]\n",
    "outputs = [{\"param\": \"slope\",\n",
    "            \"value\": \"ecuador_nasadem_rounded_slope\"\n",
    "           }]\n",
    "\n",
    "# short form\n",
    "inputs = {\"elevation\": \"ecuador_nasadem_rounded@S1_watermask\",\n",
    "          \"format\": \"degrees\",\n",
    "          \"precision\": \"FCELL\",\n",
    "          \"zscale\": \"1.0\",\n",
    "          \"min_slope\": \"0.0\"}\n",
    "outputs = {\"slope\": \"ecuador_nasadem_rounded_slope\"}\n",
    "\n",
    "pc_item = create_actinia_pc_item(id=list_id,\n",
    "                                 module=\"r.slope.aspect\",\n",
    "                                 inputs=inputs,\n",
    "                                 outputs=outputs)\n",
    "process_chain[\"list\"].append(pc_item)\n",
    "\n",
    "print_as_json(process_chain)"
   ]
  },
  {
   "cell_type": "markdown",
   "id": "513875e0-63b9-4083-bd37-23b1adb6c9a3",
   "metadata": {},
   "source": [
    "#### HAND Raster mit Gefälle anpassen"
   ]
  },
  {
   "cell_type": "code",
   "execution_count": null,
   "id": "ab1a553c-864e-4085-93e6-f31a1456c627",
   "metadata": {},
   "outputs": [],
   "source": [
    "# list item for r.mapcalc\n",
    "list_id = \"r_mapcalc_hand_with_slope\"\n",
    "# long form\n",
    "inputs = [{\"param\": \"expression\",\n",
    "           \"value\": \"HAND_ecuador_slopes_included10 = if(ecuador_nasadem_rounded_slope >= 10, 100, HAND_ecuador_raw)\"\n",
    "          }]\n",
    "\n",
    "# short form\n",
    "inputs = {\"expression\": \"HAND_ecuador_slopes_included10 = if(ecuador_nasadem_rounded_slope >= 10, 100, HAND_ecuador_raw)\"}\n",
    "\n",
    "pc_item = create_actinia_pc_item(id=list_id,\n",
    "                                 module=\"r.mapcalc\",\n",
    "                                 inputs=inputs)\n",
    "process_chain[\"list\"].append(pc_item)\n",
    "\n",
    "print_as_json(process_chain)"
   ]
  },
  {
   "cell_type": "markdown",
   "id": "45796a80-767d-4050-abbd-10dab1a92794",
   "metadata": {},
   "source": [
    "#### Sentinel-1 Raster zuschneiden\n",
    "\n",
    "Durch das Zuschneiden des Sentinel-1 Rasters auf die aktuelle Region wird die Erstellung der Wassermaske erheblich beschleunigt."
   ]
  },
  {
   "cell_type": "code",
   "execution_count": null,
   "id": "b66aa77c-b2f8-41a6-b2f2-6e9afeaa7bd0",
   "metadata": {},
   "outputs": [],
   "source": [
    "# list item for r.mapcalc\n",
    "list_id = \"r_mapcalc_clip_s1\"\n",
    "# long form\n",
    "inputs = [{\"param\": \"expression\",\n",
    "           \"value\": \"S1_20170330_8BDD_VV_clip = S1B_IW_GRDH_1SDV_20170330T233603_20170330T233634_004944_008A54_8BDD_Sigma0_VV_log@S1_watermask\"\n",
    "          }]\n",
    "\n",
    "# short form\n",
    "inputs = {\"expression\": \"S1_20170330_8BDD_VV_clip = S1B_IW_GRDH_1SDV_20170330T233603_20170330T233634_004944_008A54_8BDD_Sigma0_VV_log@S1_watermask\"}\n",
    "\n",
    "pc_item = create_actinia_pc_item(id=list_id,\n",
    "                                 module=\"r.mapcalc\",\n",
    "                                 inputs=inputs)\n",
    "process_chain[\"list\"].append(pc_item)\n",
    "\n",
    "print_as_json(process_chain)"
   ]
  },
  {
   "cell_type": "markdown",
   "id": "e2cca41f-0754-4cdb-b120-fef3999648f6",
   "metadata": {},
   "source": [
    "#### Wassermaske erstellen"
   ]
  },
  {
   "cell_type": "code",
   "execution_count": null,
   "id": "be5cdbb3-86fe-4a66-9939-e59fca745424",
   "metadata": {},
   "outputs": [],
   "source": [
    "# list item for i.sentinel_1.water\n",
    "list_id = \"i_sentinel_1_water\"\n",
    "# long form\n",
    "inputs = [{\"param\": \"input\",\n",
    "           \"value\": \"S1_20170330_8BDD_VV_clip\"\n",
    "          },\n",
    "          {\"param\": \"hand_rast\",\n",
    "           \"value\": \"HAND_ecuador_slopes_included10\"\n",
    "          },\n",
    "          {\"param\": \"polarization\",\n",
    "           \"value\": \"VV\"\n",
    "          }]\n",
    "outputs = [{\"param\": \"output\",\n",
    "            \"value\": \"S1_watermask_20170330_8BDD_VV_clip\"\n",
    "           }]\n",
    "\n",
    "# short form\n",
    "inputs = {\"input\": \"S1_20170330_8BDD_VV_clip\",\n",
    "          \"hand_rast\": \"HAND_ecuador_slopes_included10\",\n",
    "          \"polarization\": \"VV\"}\n",
    "outputs = {\"output\": \"S1_watermask_20170330_8BDD_VV_clip\"}\n",
    "\n",
    "pc_item = create_actinia_pc_item(id=list_id,\n",
    "                                 module=\"i.sentinel_1.water\",\n",
    "                                 inputs=inputs,\n",
    "                                 outputs=outputs)\n",
    "process_chain[\"list\"].append(pc_item)\n",
    "\n",
    "print_as_json(process_chain)"
   ]
  },
  {
   "cell_type": "markdown",
   "id": "99bf6ce7",
   "metadata": {},
   "source": [
    "#### Ergebnis exportieren"
   ]
  },
  {
   "cell_type": "code",
   "execution_count": null,
   "id": "8ea3f558",
   "metadata": {},
   "outputs": [],
   "source": [
    "# list item for the exporter\n",
    "list_id = \"export_watermask\"\n",
    "# long form\n",
    "outputs = [{\"export\": {\"type\": \"raster\", \"format\": \"GTiff\"},\n",
    "            \"param\": \"map\",\n",
    "            \"value\": \"S1_watermask_20170330_8BDD_VV_clip\"}]\n",
    "\n",
    "# short form not working here because of the special \"export\" entry\n",
    "\n",
    "pc_item = create_actinia_pc_item(id=list_id,\n",
    "                                 module=\"exporter\",\n",
    "                                 outputs=outputs)\n",
    "process_chain[\"list\"].append(pc_item)\n",
    "\n",
    "print_as_json(process_chain)"
   ]
  },
  {
   "cell_type": "markdown",
   "id": "980d7310",
   "metadata": {},
   "source": [
    "#### Job submission\n",
    "\n",
    "Die Prozesskette wird mit der POST Methode an actinia geschickt"
   ]
  },
  {
   "cell_type": "code",
   "execution_count": null,
   "id": "014b8ab4",
   "metadata": {},
   "outputs": [],
   "source": [
    "# submit the job\n",
    "request = requests.post(url=request_url, auth=actinia_auth, json=process_chain)\n",
    "# check if anything went wrong\n",
    "verify_request(request, 200)"
   ]
  },
  {
   "cell_type": "markdown",
   "id": "1b1ee232",
   "metadata": {},
   "source": [
    "#### actinia Antwort\n",
    "\n",
    "actinia schickt eine Antwort zurück mit Informationen, ob die Prozesskette akzeptiert wurde"
   ]
  },
  {
   "cell_type": "code",
   "execution_count": null,
   "id": "f5069857",
   "metadata": {},
   "outputs": [],
   "source": [
    "# get a json-encoded content of the response\n",
    "jsonResponse = request.json()\n",
    "\n",
    "print(f\"Response with status code: {request.status_code}\")\n",
    "\n",
    "# print formatted JSON\n",
    "print_as_json(jsonResponse)"
   ]
  },
  {
   "cell_type": "markdown",
   "id": "2a0a817a",
   "metadata": {},
   "source": [
    "#### Job Status\n",
    "\n",
    "Der Status des actinia jobs wird abgefragt"
   ]
  },
  {
   "cell_type": "code",
   "execution_count": null,
   "id": "52e90178",
   "metadata": {},
   "outputs": [],
   "source": [
    "# make a GET request to the Actinia Data API\n",
    "request_url = jsonResponse[\"urls\"][\"status\"]\n",
    "print(\"actinia GET request:\")\n",
    "print(request_url)\n",
    "print(\"---\")\n",
    "\n",
    "request = requests.get(url=request_url, auth=actinia_auth)\n",
    "\n",
    "# check if anything went wrong\n",
    "verify_request(request, 200)\n",
    "\n",
    "# get a json-encoded content of the response\n",
    "jsonResponse = request.json()"
   ]
  },
  {
   "cell_type": "markdown",
   "id": "a99a4abd",
   "metadata": {},
   "source": [
    "#### Job Ende\n",
    "\n",
    "Der Status des actinia jobs wird weiter abgefragt, bis er erfolgreich beendet wurde oder auf einen Fehler läuft. Wenn der Job erfolgreich beendet wurde, steht in der actinia Antwort \"Processing successfully finished\""
   ]
  },
  {
   "cell_type": "code",
   "execution_count": null,
   "id": "b13cc32d",
   "metadata": {},
   "outputs": [],
   "source": [
    "# continue polling until finished\n",
    "while request.status_code == 200 and \\\n",
    "        jsonResponse[\"message\"] != \"Processing successfully finished\":\n",
    "    request = requests.get(url=request_url, auth=actinia_auth)\n",
    "    jsonResponse = request.json()\n",
    "\n",
    "# check if anything went wrong\n",
    "verify_request(request, 200)"
   ]
  },
  {
   "cell_type": "markdown",
   "id": "d5ec2a63",
   "metadata": {},
   "source": [
    "#### Job logs und Ergebnisse\n",
    "\n",
    "actinia Antwort anzeigen"
   ]
  },
  {
   "cell_type": "code",
   "execution_count": null,
   "id": "078ee154",
   "metadata": {},
   "outputs": [],
   "source": [
    "# print formatted JSON\n",
    "print_as_json(jsonResponse)"
   ]
  },
  {
   "cell_type": "markdown",
   "id": "b73bdb26",
   "metadata": {},
   "source": [
    "Prozessergebnisse ausgeben lassen:"
   ]
  },
  {
   "cell_type": "code",
   "execution_count": null,
   "id": "d1bf0f7e",
   "metadata": {},
   "outputs": [],
   "source": [
    "print(\"Process results:\")\n",
    "print_as_json(jsonResponse[\"process_results\"])"
   ]
  },
  {
   "cell_type": "markdown",
   "id": "c87a365d",
   "metadata": {},
   "source": [
    "Ergebnis-URL aus actinia Antwort selektieren und anzeigen."
   ]
  },
  {
   "cell_type": "code",
   "execution_count": null,
   "id": "d508ad3f",
   "metadata": {},
   "outputs": [],
   "source": [
    "result_url = request.json()[\"urls\"][\"resources\"][0]\n",
    "\n",
    "print(result_url)\n",
    "raster_url = result_url.replace(\"//\", f\"//{actinia_user}:{actinia_pw}@\")"
   ]
  },
  {
   "cell_type": "markdown",
   "id": "7e342140",
   "metadata": {},
   "source": [
    "### Ergebnis hier im notebook anzeigen"
   ]
  },
  {
   "cell_type": "code",
   "execution_count": null,
   "id": "e1f01e95",
   "metadata": {},
   "outputs": [],
   "source": [
    "# visualization with leafmap\n",
    "m = leafmap.Map()\n",
    "m.add_basemap(\"Esri.WorldImagery\")\n",
    "m.add_cog_layer(\n",
    "    raster_url,\n",
    "    label=\"S1 Wassermaske\",\n",
    "    colormap_name=\"set1\",\n",
    ")\n",
    "legend_dict = {\n",
    "    \"0 Land\": \"e41a1c\",\n",
    "    \"1 Wasser\": \"999999\",\n",
    "}\n",
    "m.add_legend(\n",
    "    title=\"Wassermaske\", legend_dict=legend_dict, draggable=False\n",
    ")\n",
    "# show map\n",
    "m"
   ]
  }
 ],
 "metadata": {
  "kernelspec": {
   "display_name": "Python 3 (ipykernel)",
   "language": "python",
   "name": "python3"
  },
  "language_info": {
   "codemirror_mode": {
    "name": "ipython",
    "version": 3
   },
   "file_extension": ".py",
   "mimetype": "text/x-python",
   "name": "python",
   "nbconvert_exporter": "python",
   "pygments_lexer": "ipython3",
   "version": "3.12.6"
  },
  "widgets": {
   "application/vnd.jupyter.widget-state+json": {
    "state": {},
    "version_major": 2,
    "version_minor": 0
   }
  }
 },
 "nbformat": 4,
 "nbformat_minor": 5
}
